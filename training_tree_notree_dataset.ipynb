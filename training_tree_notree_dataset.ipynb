{
 "cells": [
  {
   "cell_type": "code",
   "execution_count": 1,
   "id": "ede5d091",
   "metadata": {},
   "outputs": [],
   "source": [
    "import tensorflow as tf\n",
    "import numpy as np\n",
    "import os\n",
    "\n",
    "import cv2\n",
    "import imghdr\n",
    "from matplotlib import pyplot as plt"
   ]
  },
  {
   "cell_type": "code",
   "execution_count": 2,
   "id": "0b2720b7",
   "metadata": {},
   "outputs": [
    {
     "data": {
      "text/plain": [
       "'original_dataset_sepreate\\\\Tree_Images'"
      ]
     },
     "execution_count": 2,
     "metadata": {},
     "output_type": "execute_result"
    }
   ],
   "source": [
    "os.path.join('original_dataset_sepreate','Tree_Images')"
   ]
  },
  {
   "cell_type": "code",
   "execution_count": 3,
   "id": "f30355e4",
   "metadata": {},
   "outputs": [
    {
     "data": {
      "text/plain": [
       "['Not_Tree_Images', 'Tree_Images']"
      ]
     },
     "execution_count": 3,
     "metadata": {},
     "output_type": "execute_result"
    }
   ],
   "source": [
    "os.listdir('original_dataset_sepreate')"
   ]
  },
  {
   "cell_type": "code",
   "execution_count": 4,
   "id": "c7f17d2e",
   "metadata": {},
   "outputs": [
    {
     "name": "stdout",
     "output_type": "stream",
     "text": [
      "Found 1000 files belonging to 2 classes.\n"
     ]
    }
   ],
   "source": [
    "data = tf.keras.utils.image_dataset_from_directory('original_dataset_sepreate')"
   ]
  },
  {
   "cell_type": "code",
   "execution_count": 5,
   "id": "cc88ba04",
   "metadata": {},
   "outputs": [],
   "source": [
    "data_iterator = data.as_numpy_iterator()"
   ]
  },
  {
   "cell_type": "code",
   "execution_count": 6,
   "id": "4236a748",
   "metadata": {},
   "outputs": [],
   "source": [
    "batch = data_iterator.next()"
   ]
  },
  {
   "cell_type": "code",
   "execution_count": 7,
   "id": "8a39d04f",
   "metadata": {},
   "outputs": [
    {
     "data": {
      "image/png": "[encoded data removed]",
      "text/plain": [
       "<Figure size 1440x1440 with 4 Axes>"
      ]
     },
     "metadata": {
      "needs_background": "light"
     },
     "output_type": "display_data"
    }
   ],
   "source": [
    "fig, ax = plt.subplots(ncols=4, figsize=(20,20))\n",
    "for idx, img in enumerate(batch[0][:4]):\n",
    "    ax[idx].imshow(img.astype(int))\n",
    "    ax[idx].title.set_text(batch[1][idx])"
   ]
  },
  {
   "cell_type": "code",
   "execution_count": 8,
   "id": "ec8c4fc4",
   "metadata": {},
   "outputs": [],
   "source": [
    "data = data.map(lambda x,y: (x/255, y))"
   ]
  },
  {
   "cell_type": "code",
   "execution_count": 9,
   "id": "b6067829",
   "metadata": {},
   "outputs": [],
   "source": [
    "train_size = int(len(data)*.7)\n",
    "val_size = int(len(data)*.2)\n",
    "test_size = int(len(data)*.1)"
   ]
  },
  {
   "cell_type": "code",
   "execution_count": 10,
   "id": "61451b46",
   "metadata": {},
   "outputs": [
    {
     "data": {
      "text/plain": [
       "22"
      ]
     },
     "execution_count": 10,
     "metadata": {},
     "output_type": "execute_result"
    }
   ],
   "source": [
    "train_size"
   ]
  },
  {
   "cell_type": "code",
   "execution_count": 11,
   "id": "e3152509",
   "metadata": {},
   "outputs": [
    {
     "data": {
      "text/plain": [
       "6"
      ]
     },
     "execution_count": 11,
     "metadata": {},
     "output_type": "execute_result"
    }
   ],
   "source": [
    "val_size"
   ]
  },
  {
   "cell_type": "code",
   "execution_count": 12,
   "id": "f5e6a60c",
   "metadata": {},
   "outputs": [
    {
     "data": {
      "text/plain": [
       "3"
      ]
     },
     "execution_count": 12,
     "metadata": {},
     "output_type": "execute_result"
    }
   ],
   "source": [
    "test_size"
   ]
  },
  {
   "cell_type": "code",
   "execution_count": 13,
   "id": "d971510d",
   "metadata": {},
   "outputs": [],
   "source": [
    "train = data.take(train_size)\n",
    "val = data.skip(train_size).take(val_size)\n",
    "test = data.skip(train_size+val_size).take(test_size)"
   ]
  },
  {
   "cell_type": "code",
   "execution_count": 14,
   "id": "ebee3e47",
   "metadata": {},
   "outputs": [
    {
     "data": {
      "text/plain": [
       "<TakeDataset element_spec=(TensorSpec(shape=(None, 256, 256, 3), dtype=tf.float32, name=None), TensorSpec(shape=(None,), dtype=tf.int32, name=None))>"
      ]
     },
     "execution_count": 14,
     "metadata": {},
     "output_type": "execute_result"
    }
   ],
   "source": [
    "train"
   ]
  },
  {
   "cell_type": "code",
   "execution_count": 15,
   "id": "69c755b9",
   "metadata": {},
   "outputs": [
    {
     "data": {
      "text/plain": [
       "<TakeDataset element_spec=(TensorSpec(shape=(None, 256, 256, 3), dtype=tf.float32, name=None), TensorSpec(shape=(None,), dtype=tf.int32, name=None))>"
      ]
     },
     "execution_count": 15,
     "metadata": {},
     "output_type": "execute_result"
    }
   ],
   "source": [
    "test"
   ]
  },
  {
   "cell_type": "code",
   "execution_count": 16,
   "id": "fac50716",
   "metadata": {},
   "outputs": [],
   "source": [
    "from tensorflow.keras.models import Sequential\n",
    "from tensorflow.keras.layers import Conv2D, MaxPooling2D, Dense, Flatten, Dropout"
   ]
  },
  {
   "cell_type": "code",
   "execution_count": 17,
   "id": "5fa244ea",
   "metadata": {},
   "outputs": [],
   "source": [
    "model = Sequential()"
   ]
  },
  {
   "cell_type": "code",
   "execution_count": 18,
   "id": "b1888367",
   "metadata": {},
   "outputs": [],
   "source": [
    "model.add(Conv2D(16, (3,3), 1, activation='relu', input_shape=(256,256,3)))\n",
    "model.add(MaxPooling2D())\n",
    "model.add(Conv2D(32, (3,3), 1, activation='relu'))\n",
    "model.add(MaxPooling2D())\n",
    "model.add(Conv2D(16, (3,3), 1, activation='relu'))\n",
    "model.add(MaxPooling2D())\n",
    "model.add(Flatten())\n",
    "model.add(Dense(256, activation='relu'))\n",
    "model.add(Dense(1, activation='sigmoid'))\n"
   ]
  },
  {
   "cell_type": "code",
   "execution_count": 19,
   "id": "b201a59a",
   "metadata": {},
   "outputs": [],
   "source": [
    "model.compile('adam', loss=tf.losses.BinaryCrossentropy(), metrics=['accuracy'])"
   ]
  },
  {
   "cell_type": "code",
   "execution_count": 20,
   "id": "29082299",
   "metadata": {},
   "outputs": [
    {
     "name": "stdout",
     "output_type": "stream",
     "text": [
      "Model: \"sequential\"\n",
      "_________________________________________________________________\n",
      " Layer (type)                Output Shape              Param #   \n",
      "=================================================================\n",
      " conv2d (Conv2D)             (None, 254, 254, 16)      448       \n",
      "                                                                 \n",
      " max_pooling2d (MaxPooling2D  (None, 127, 127, 16)     0         \n",
      " )                                                               \n",
      "                                                                 \n",
      " conv2d_1 (Conv2D)           (None, 125, 125, 32)      4640      \n",
      "                                                                 \n",
      " max_pooling2d_1 (MaxPooling  (None, 62, 62, 32)       0         \n",
      " 2D)                                                             \n",
      "                                                                 \n",
      " conv2d_2 (Conv2D)           (None, 60, 60, 16)        4624      \n",
      "                                                                 \n",
      " max_pooling2d_2 (MaxPooling  (None, 30, 30, 16)       0         \n",
      " 2D)                                                             \n",
      "                                                                 \n",
      " flatten (Flatten)           (None, 14400)             0         \n",
      "                                                                 \n",
      " dense (Dense)               (None, 256)               3686656   \n",
      "                                                                 \n",
      " dense_1 (Dense)             (None, 1)                 257       \n",
      "                                                                 \n",
      "=================================================================\n",
      "Total params: 3,696,625\n",
      "Trainable params: 3,696,625\n",
      "Non-trainable params: 0\n",
      "_________________________________________________________________\n"
     ]
    }
   ],
   "source": [
    "model.summary()"
   ]
  },
  {
   "cell_type": "code",
   "execution_count": 21,
   "id": "25323fde",
   "metadata": {},
   "outputs": [],
   "source": [
    "logdir='logs'"
   ]
  },
  {
   "cell_type": "code",
   "execution_count": 22,
   "id": "00814d95",
   "metadata": {},
   "outputs": [],
   "source": [
    "tensorboard_callback = tf.keras.callbacks.TensorBoard(log_dir=logdir)"
   ]
  },
  {
   "cell_type": "code",
   "execution_count": 23,
   "id": "65082e8c",
   "metadata": {},
   "outputs": [
    {
     "name": "stdout",
     "output_type": "stream",
     "text": [
      "Epoch 1/20\n",
      "22/22 [==============================] - 37s 2s/step - loss: 0.3164 - accuracy: 0.8693 - val_loss: 0.2148 - val_accuracy: 0.9375\n",
      "Epoch 2/20\n",
      "22/22 [==============================] - 32s 1s/step - loss: 0.0898 - accuracy: 0.9659 - val_loss: 0.0454 - val_accuracy: 0.9844\n",
      "Epoch 3/20\n",
      "22/22 [==============================] - 32s 1s/step - loss: 0.0519 - accuracy: 0.9815 - val_loss: 0.0259 - val_accuracy: 0.9948\n",
      "Epoch 4/20\n",
      "22/22 [==============================] - 31s 1s/step - loss: 0.0301 - accuracy: 0.9915 - val_loss: 0.0105 - val_accuracy: 1.0000\n",
      "Epoch 5/20\n",
      "22/22 [==============================] - 32s 1s/step - loss: 0.0179 - accuracy: 0.9957 - val_loss: 0.0176 - val_accuracy: 0.9948\n",
      "Epoch 6/20\n",
      "22/22 [==============================] - 33s 1s/step - loss: 0.0227 - accuracy: 0.9915 - val_loss: 0.0152 - val_accuracy: 1.0000\n",
      "Epoch 7/20\n",
      "22/22 [==============================] - 32s 1s/step - loss: 0.0239 - accuracy: 0.9886 - val_loss: 0.0123 - val_accuracy: 0.9948\n",
      "Epoch 8/20\n",
      "22/22 [==============================] - 32s 1s/step - loss: 0.0102 - accuracy: 0.9972 - val_loss: 0.0061 - val_accuracy: 1.0000\n",
      "Epoch 9/20\n",
      "22/22 [==============================] - 32s 1s/step - loss: 0.0069 - accuracy: 0.9986 - val_loss: 0.0025 - val_accuracy: 1.0000\n",
      "Epoch 10/20\n",
      "22/22 [==============================] - 32s 1s/step - loss: 0.0018 - accuracy: 1.0000 - val_loss: 0.0090 - val_accuracy: 0.9948\n",
      "Epoch 11/20\n",
      "22/22 [==============================] - 32s 1s/step - loss: 8.2679e-04 - accuracy: 1.0000 - val_loss: 0.0016 - val_accuracy: 1.0000\n",
      "Epoch 12/20\n",
      "22/22 [==============================] - 32s 1s/step - loss: 0.0021 - accuracy: 0.9986 - val_loss: 0.0057 - val_accuracy: 1.0000\n",
      "Epoch 13/20\n",
      "22/22 [==============================] - 32s 1s/step - loss: 7.5632e-04 - accuracy: 1.0000 - val_loss: 0.0039 - val_accuracy: 1.0000\n",
      "Epoch 14/20\n",
      "22/22 [==============================] - 32s 1s/step - loss: 3.2315e-04 - accuracy: 1.0000 - val_loss: 0.0025 - val_accuracy: 1.0000\n",
      "Epoch 15/20\n",
      "22/22 [==============================] - 32s 1s/step - loss: 2.1867e-04 - accuracy: 1.0000 - val_loss: 0.0013 - val_accuracy: 1.0000\n",
      "Epoch 16/20\n",
      "22/22 [==============================] - 32s 1s/step - loss: 2.4131e-04 - accuracy: 1.0000 - val_loss: 6.6515e-04 - val_accuracy: 1.0000\n",
      "Epoch 17/20\n",
      "22/22 [==============================] - 32s 1s/step - loss: 1.7802e-04 - accuracy: 1.0000 - val_loss: 0.0010 - val_accuracy: 1.0000\n",
      "Epoch 18/20\n",
      "22/22 [==============================] - 33s 1s/step - loss: 1.5730e-04 - accuracy: 1.0000 - val_loss: 6.7590e-04 - val_accuracy: 1.0000\n",
      "Epoch 19/20\n",
      "22/22 [==============================] - 34s 1s/step - loss: 1.2886e-04 - accuracy: 1.0000 - val_loss: 4.3286e-04 - val_accuracy: 1.0000\n",
      "Epoch 20/20\n",
      "22/22 [==============================] - 35s 1s/step - loss: 1.7040e-04 - accuracy: 1.0000 - val_loss: 5.5461e-04 - val_accuracy: 1.0000\n"
     ]
    }
   ],
   "source": [
    "hist = model.fit(train, epochs=20, validation_data=val, callbacks=[tensorboard_callback])"
   ]
  },
  {
   "cell_type": "code",
   "execution_count": 24,
   "id": "0ff2ab9c",
   "metadata": {},
   "outputs": [
    {
     "data": {
      "image/png": "[encoded data removed]",
      "text/plain": [
       "<Figure size 432x288 with 1 Axes>"
      ]
     },
     "metadata": {
      "needs_background": "light"
     },
     "output_type": "display_data"
    }
   ],
   "source": [
    "fig = plt.figure()\n",
    "plt.plot(hist.history['loss'], color='teal', label='loss')\n",
    "plt.plot(hist.history['val_loss'], color='orange', label='val_loss')\n",
    "fig.suptitle('Loss', fontsize=20)\n",
    "plt.legend(loc=\"upper left\")\n",
    "plt.show()"
   ]
  },
  {
   "cell_type": "code",
   "execution_count": 25,
   "id": "c5315e1e",
   "metadata": {},
   "outputs": [
    {
     "data": {
      "image/png": "[encoded data removed]",
      "text/plain": [
       "<Figure size 432x288 with 1 Axes>"
      ]
     },
     "metadata": {
      "needs_background": "light"
     },
     "output_type": "display_data"
    }
   ],
   "source": [
    "fig = plt.figure()\n",
    "plt.plot(hist.history['accuracy'], color='teal', label='accuracy')\n",
    "plt.plot(hist.history['val_accuracy'], color='orange', label='val_accuracy')\n",
    "fig.suptitle('Accuracy', fontsize=20)\n",
    "plt.legend(loc=\"upper left\")\n",
    "plt.show()"
   ]
  },
  {
   "cell_type": "code",
   "execution_count": 26,
   "id": "478e1d33",
   "metadata": {},
   "outputs": [],
   "source": [
    "from tensorflow.keras.metrics import Precision, Recall, BinaryAccuracy"
   ]
  },
  {
   "cell_type": "code",
   "execution_count": 27,
   "id": "9c3359fc",
   "metadata": {},
   "outputs": [],
   "source": [
    "pre = Precision()\n",
    "#success probability of making a correct positive class classification.\n",
    "re = Recall()\n",
    "# sensitive the model is towards identifying the positive class. It’s computed as the number of True Positives divided by the sum of True Positives and False Negatives.\n",
    "acc = BinaryAccuracy()\n",
    "# comfortable the model is with detecting the positive and negative classes."
   ]
  },
  {
   "cell_type": "markdown",
   "id": "1dfac38e",
   "metadata": {},
   "source": [
    "# testing"
   ]
  },
  {
   "cell_type": "code",
   "execution_count": 28,
   "id": "249dcd62",
   "metadata": {},
   "outputs": [
    {
     "name": "stdout",
     "output_type": "stream",
     "text": [
      "1/1 [==============================] - 1s 591ms/step\n",
      "1/1 [==============================] - 0s 307ms/step\n",
      "1/1 [==============================] - 0s 308ms/step\n"
     ]
    }
   ],
   "source": [
    "for batch in test.as_numpy_iterator(): \n",
    "    X, y = batch\n",
    "    yhat = model.predict(X)\n",
    "    pre.update_state(y, yhat)\n",
    "    re.update_state(y, yhat)\n",
    "    acc.update_state(y, yhat)"
   ]
  },
  {
   "cell_type": "code",
   "execution_count": 29,
   "id": "ae50b661",
   "metadata": {},
   "outputs": [
    {
     "name": "stdout",
     "output_type": "stream",
     "text": [
      "tf.Tensor(1.0, shape=(), dtype=float32) tf.Tensor(1.0, shape=(), dtype=float32) tf.Tensor(1.0, shape=(), dtype=float32)\n"
     ]
    }
   ],
   "source": [
    "print(pre.result(), re.result(), acc.result())"
   ]
  },
  {
   "cell_type": "markdown",
   "id": "1c319296",
   "metadata": {},
   "source": [
    "# testing single image"
   ]
  },
  {
   "cell_type": "code",
   "execution_count": 30,
   "id": "25345971",
   "metadata": {},
   "outputs": [],
   "source": [
    "import cv2\n"
   ]
  },
  {
   "cell_type": "code",
   "execution_count": 32,
   "id": "8baee858",
   "metadata": {},
   "outputs": [
    {
     "data": {
      "image/png": "[encoded data removed]",
      "text/plain": [
       "<Figure size 432x288 with 1 Axes>"
      ]
     },
     "metadata": {
      "needs_background": "light"
     },
     "output_type": "display_data"
    }
   ],
   "source": [
    "img = cv2.imread('no_tree_from_dataset.png')\n",
    "\n",
    "plt.imshow(img)\n",
    "plt.show()"
   ]
  },
  {
   "cell_type": "code",
   "execution_count": 36,
   "id": "da2dea2e",
   "metadata": {},
   "outputs": [
    {
     "data": {
      "image/png": "[encoded data removed]",
      "text/plain": [
       "<Figure size 432x288 with 1 Axes>"
      ]
     },
     "metadata": {
      "needs_background": "light"
     },
     "output_type": "display_data"
    }
   ],
   "source": [
    "re_size = tf.image.resize(img, (256,256))\n",
    "plt.imshow(resize.numpy().astype(int))\n",
    "plt.show()"
   ]
  },
  {
   "cell_type": "code",
   "execution_count": 37,
   "id": "ea1d5362",
   "metadata": {},
   "outputs": [
    {
     "name": "stdout",
     "output_type": "stream",
     "text": [
      "1/1 [==============================] - 0s 53ms/step\n"
     ]
    }
   ],
   "source": [
    "yhat = model.predict(np.expand_dims(re_size/255, 0))"
   ]
  },
  {
   "cell_type": "code",
   "execution_count": 38,
   "id": "59b72f43",
   "metadata": {},
   "outputs": [
    {
     "data": {
      "text/plain": [
       "array([[7.0787755e-05]], dtype=float32)"
      ]
     },
     "execution_count": 38,
     "metadata": {},
     "output_type": "execute_result"
    }
   ],
   "source": [
    "yhat"
   ]
  },
  {
   "cell_type": "code",
   "execution_count": 39,
   "id": "a6c66c8f",
   "metadata": {},
   "outputs": [
    {
     "name": "stdout",
     "output_type": "stream",
     "text": [
      "Prediction: no tree\n"
     ]
    }
   ],
   "source": [
    "if yhat < 0.5: \n",
    "    print('Prediction: no tree')\n",
    "else:\n",
    "    print('Prediction: tree')"
   ]
  },
  {
   "cell_type": "markdown",
   "id": "1019f319",
   "metadata": {},
   "source": [
    "# testing multiple images"
   ]
  },
  {
   "cell_type": "code",
   "execution_count": 40,
   "id": "44687c4d",
   "metadata": {},
   "outputs": [],
   "source": [
    "from tensorflow.keras.models import load_model"
   ]
  },
  {
   "cell_type": "code",
   "execution_count": 41,
   "id": "6704cd62",
   "metadata": {},
   "outputs": [],
   "source": [
    "model.save(os.path.join('models','treeclassifier.h5'))"
   ]
  },
  {
   "cell_type": "code",
   "execution_count": 42,
   "id": "f2b87747",
   "metadata": {},
   "outputs": [],
   "source": [
    "new_model = load_model(r'C:\\Users\\91896\\Documents\\projects\\19_sept_hackathon\\models\\treeclassifier.h5')"
   ]
  },
  {
   "cell_type": "code",
   "execution_count": 43,
   "id": "9f5ea5ba",
   "metadata": {},
   "outputs": [
    {
     "name": "stdout",
     "output_type": "stream",
     "text": [
      "1/1 [==============================] - 0s 178ms/step\n"
     ]
    }
   ],
   "source": [
    "result = new_model.predict(np.expand_dims(re_size/255, 0))"
   ]
  },
  {
   "cell_type": "code",
   "execution_count": 44,
   "id": "21b12484",
   "metadata": {},
   "outputs": [
    {
     "data": {
      "text/plain": [
       "array([[7.0787755e-05]], dtype=float32)"
      ]
     },
     "execution_count": 44,
     "metadata": {},
     "output_type": "execute_result"
    }
   ],
   "source": [
    "result"
   ]
  },
  {
   "cell_type": "code",
   "execution_count": 45,
   "id": "97b9445a",
   "metadata": {},
   "outputs": [
    {
     "data": {
      "text/plain": [
       "0"
      ]
     },
     "execution_count": 45,
     "metadata": {},
     "output_type": "execute_result"
    }
   ],
   "source": [
    "np.argmax(result)"
   ]
  },
  {
   "cell_type": "code",
   "execution_count": 46,
   "id": "927fed49",
   "metadata": {},
   "outputs": [
    {
     "name": "stdout",
     "output_type": "stream",
     "text": [
      "Prediction: no tree\n"
     ]
    }
   ],
   "source": [
    "if result < 0.5: \n",
    "    print('Prediction: no tree')\n",
    "else:\n",
    "    print('Prediction: tree')"
   ]
  },
  {
   "cell_type": "code",
   "execution_count": 47,
   "id": "9f269da8",
   "metadata": {},
   "outputs": [],
   "source": [
    "def model_predict(img_path,model):\n",
    "    print(\"done\")\n",
    "    test_image=image.load_img(img_path,target_size=(256,256))\n",
    "    test_image=image.img_to_array(test_image)\n",
    "    test_image=test_image/255\n",
    "    test_image=np.expand_dims(test_image,axis=0)\n",
    "    result=model.predict(test_image)\n",
    "    return \"Tree\" if result > 0.5 else \"No Tree\""
   ]
  },
  {
   "cell_type": "code",
   "execution_count": null,
   "id": "e86dd852",
   "metadata": {},
   "outputs": [],
   "source": []
  }
 ],
 "metadata": {
  "kernelspec": {
   "display_name": "Python 3",
   "language": "python",
   "name": "python3"
  },
  "language_info": {
   "codemirror_mode": {
    "name": "ipython",
    "version": 3
   },
   "file_extension": ".py",
   "mimetype": "text/x-python",
   "name": "python",
   "nbconvert_exporter": "python",
   "pygments_lexer": "ipython3",
   "version": "3.8.8"
  }
 },
 "nbformat": 4,
 "nbformat_minor": 5
}
